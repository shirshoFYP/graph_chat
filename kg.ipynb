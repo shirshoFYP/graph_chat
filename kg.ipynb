{
 "cells": [
  {
   "cell_type": "code",
   "execution_count": null,
   "metadata": {},
   "outputs": [],
   "source": [
    "import pandas as pd\n",
    "\n",
    "# Create a dataframe\n",
    "df = pd.read_csv('kg.csv', low_memory=False)\n",
    "print(df.shape)\n",
    "df.head()"
   ]
  },
  {
   "cell_type": "code",
   "execution_count": null,
   "metadata": {},
   "outputs": [],
   "source": [
    "nodes = pd.concat([\n",
    "    df.get(['x_id', 'x_type', 'x_name', 'x_source']).rename(columns={\n",
    "        'x_id': 'node_id', 'x_type': 'node_type', 'x_name': 'node_name', 'x_source': 'node_source'\n",
    "        }),\n",
    "    df.get(['y_id', 'y_type', 'y_name', 'y_source']).rename(columns={\n",
    "        'y_id': 'node_id', 'y_type': 'node_type', 'y_name': 'node_name', 'y_source': 'node_source'\n",
    "        })\n",
    "    ])\n",
    "\n",
    "nodes = nodes.drop_duplicates().reset_index().drop('index', axis=1).reset_index().rename(\n",
    "    columns={'index': 'node_idx'})\n",
    "\n",
    "edges = pd.merge(df, nodes, 'left', left_on=['x_id','x_type', 'x_name','x_source'], \n",
    "                 right_on=['node_id','node_type','node_name','node_source'])\n",
    "edges = edges.rename(columns={'node_idx': 'x_idx'})\n",
    "edges = pd.merge(edges, nodes, 'left', left_on=['y_id','y_type', 'y_name','y_source'], \n",
    "                 right_on=['node_id','node_type','node_name','node_source'])\n",
    "edges = edges.rename(columns={'node_idx': 'y_idx'})\n",
    "\n",
    "edge_index = edges.get(['x_idx', 'y_idx']).values.T\n"
   ]
  },
  {
   "cell_type": "code",
   "execution_count": null,
   "metadata": {},
   "outputs": [],
   "source": [
    "import networkx as nx\n",
    "import matplotlib.pyplot as plt\n",
    "import numpy as np\n",
    "import igraph as ig\n"
   ]
  },
  {
   "cell_type": "code",
   "execution_count": null,
   "metadata": {},
   "outputs": [],
   "source": [
    "graph = ig.Graph()\n",
    "graph.add_vertices(list(range(nodes.shape[0])))\n",
    "graph.add_edges([tuple(x) for x in edge_index.T])\n",
    "G = nx.Graph()\n",
    "G = graph.to_networkx()"
   ]
  },
  {
   "cell_type": "code",
   "execution_count": null,
   "metadata": {},
   "outputs": [],
   "source": [
    "print(graph)"
   ]
  },
  {
   "cell_type": "code",
   "execution_count": null,
   "metadata": {},
   "outputs": [],
   "source": [
    "from pprint import pprint\n",
    "pprint(dict(G[0]))\n",
    "# print number of edge types"
   ]
  },
  {
   "cell_type": "code",
   "execution_count": null,
   "metadata": {},
   "outputs": [],
   "source": [
    "G[1]"
   ]
  },
  {
   "cell_type": "code",
   "execution_count": null,
   "metadata": {},
   "outputs": [],
   "source": [
    "pos = nx.spring_layout(G, seed=42, k=0.9)\n",
    "labels = nx.get_edge_attributes(G, 'label')\n",
    "plt.figure(figsize=(12, 10))\n",
    "nx.draw(G, pos, with_labels=True, font_size=10, node_size=700, node_color='lightblue', edge_color='gray', alpha=0.6)\n",
    "nx.draw_networkx_edge_labels(G, pos, edge_labels=labels, font_size=8, label_pos=0.3, verticalalignment='baseline')\n",
    "plt.title('Knowledge Graph')\n",
    "plt.show()"
   ]
  },
  {
   "cell_type": "code",
   "execution_count": null,
   "metadata": {},
   "outputs": [],
   "source": [
    "degree_centrality = nx.degree_centrality(G)\n",
    "for node, centrality in degree_centrality.items():\n",
    "    print(f'{node}: Degree Centrality = {centrality:.2f}')"
   ]
  },
  {
   "cell_type": "code",
   "execution_count": null,
   "metadata": {},
   "outputs": [],
   "source": [
    "# Calculate centrality measures\n",
    "degree_centrality = nx.degree_centrality(G)\n",
    "betweenness_centrality = nx.betweenness_centrality(G)\n",
    "closeness_centrality = nx.closeness_centrality(G)\n",
    "\n",
    "# Visualize centrality measures\n",
    "plt.figure(figsize=(15, 10))\n",
    "\n",
    "# Degree centrality\n",
    "plt.subplot(131)\n",
    "nx.draw(G, pos, with_labels=True, font_size=10, node_size=[v * 3000 for v in degree_centrality.values()], node_color=list(degree_centrality.values()), cmap=plt.cm.Blues, edge_color='gray', alpha=0.6)\n",
    "plt.title('Degree Centrality')\n",
    "\n",
    "# Betweenness centrality\n",
    "plt.subplot(132)\n",
    "nx.draw(G, pos, with_labels=True, font_size=10, node_size=[v * 3000 for v in betweenness_centrality.values()], node_color=list(betweenness_centrality.values()), cmap=plt.cm.Oranges, edge_color='gray', alpha=0.6)\n",
    "plt.title('Betweenness Centrality')\n",
    "\n",
    "# Closeness centrality\n",
    "plt.subplot(133)\n",
    "nx.draw(G, pos, with_labels=True, font_size=10, node_size=[v * 3000 for v in closeness_centrality.values()], node_color=list(closeness_centrality.values()), cmap=plt.cm.Greens, edge_color='gray', alpha=0.6)\n",
    "plt.title('Closeness Centrality')\n",
    "\n",
    "plt.tight_layout()\n",
    "plt.show()"
   ]
  },
  {
   "cell_type": "code",
   "execution_count": null,
   "metadata": {},
   "outputs": [],
   "source": [
    "from node2vec import Node2Vec\n",
    "from sklearn.manifold import TSNE\n",
    "\n",
    "node2vec = Node2Vec(G, dimensions=64, walk_length=30, num_walks=200, workers=4)\n",
    "model = node2vec.fit(window=10, min_count=1, batch_words=4)\n",
    "\n",
    "embeddings = np.array([model.wv[node] for node in G.nodes()])\n",
    "tsne = TSNE(n_components=2, perplexity=10, max_iter=400)\n",
    "embeddings_2d = tsne.fit_transform(embeddings)\n",
    "\n",
    "plt.figure(figsize=(12, 10))\n",
    "plt.scatter(embeddings_2d[:, 0], embeddings_2d[:, 1], c='blue', alpha=0.7)\n",
    "\n",
    "# Add node labels\n",
    "for i, node in enumerate(G.nodes()):\n",
    "    plt.text(embeddings_2d[i, 0], embeddings_2d[i, 1], node, fontsize=8)\n",
    "plt.title('Node Embeddings Visualization')\n",
    "plt.show()"
   ]
  },
  {
   "cell_type": "code",
   "execution_count": null,
   "metadata": {},
   "outputs": [],
   "source": [
    "from sklearn.cluster import KMeans\n",
    "\n",
    "num_clusters = 3\n",
    "kmeans = KMeans(n_clusters=num_clusters, random_state=42)\n",
    "cluster_labels = kmeans.fit_predict(embeddings)\n",
    "\n",
    "plt.figure(figsize=(6, 5))\n",
    "plt.scatter(embeddings_2d[:, 0], embeddings_2d[:, 1], c=cluster_labels, cmap=plt.cm.Set1, alpha=0.7)\n",
    "plt.legend(handles=plt.scatter(embeddings_2d[:, 0], embeddings_2d[:, 1], \n",
    "                               c=cluster_labels, cmap=plt.cm.Set1, alpha=0.7).legend_elements()[0], \n",
    "                               labels=[f'Cluster {i}' for i in range(num_clusters)], title='Cluster Label')\n",
    "\n",
    "for i, node in enumerate(G.nodes()):\n",
    "    plt.text(embeddings_2d[i, 0], embeddings_2d[i, 1], node, fontsize=8)\n",
    "\n",
    "plt.title('K-Means Clustering in Embedding Space with Node Labels')\n",
    "plt.show()"
   ]
  },
  {
   "cell_type": "code",
   "execution_count": null,
   "metadata": {},
   "outputs": [],
   "source": [
    "plt.figure(figsize=(6, 5))\n",
    "nx.draw(G, pos, with_labels=True, font_size=10, node_size=700, node_color=cluster_labels, \n",
    "        cmap=plt.cm.Set1, edge_color='gray', alpha=0.6)\n",
    "plt.title('Graph Clustering using K-Means')\n",
    "\n",
    "plt.show()"
   ]
  },
  {
   "cell_type": "code",
   "execution_count": null,
   "metadata": {},
   "outputs": [],
   "source": [
    "from sklearn.cluster import DBSCAN\n",
    "\n",
    "# Perform DBSCAN clustering on node embeddings\n",
    "dbscan = DBSCAN(eps=1.0, min_samples=2) # Adjust eps and min_samples\n",
    "cluster_labels = dbscan.fit_predict(embeddings)\n",
    "\n",
    "# Visualize clusters\n",
    "plt.figure(figsize=(6, 5))\n",
    "nx.draw(G, pos, with_labels=True, font_size=10, node_size=700, node_color=cluster_labels, cmap=plt.cm.Set1, edge_color='gray', alpha=0.6)\n",
    "plt.title('Graph Clustering using DBSCAN')\n",
    "plt.show()"
   ]
  },
  {
   "cell_type": "code",
   "execution_count": null,
   "metadata": {},
   "outputs": [],
   "source": []
  }
 ],
 "metadata": {
  "kernelspec": {
   "display_name": "fyp",
   "language": "python",
   "name": "python3"
  },
  "language_info": {
   "codemirror_mode": {
    "name": "ipython",
    "version": 3
   },
   "file_extension": ".py",
   "mimetype": "text/x-python",
   "name": "python",
   "nbconvert_exporter": "python",
   "pygments_lexer": "ipython3",
   "version": "3.12.7"
  }
 },
 "nbformat": 4,
 "nbformat_minor": 2
}
